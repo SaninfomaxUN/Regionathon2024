{
 "cells": [
  {
   "cell_type": "markdown",
   "id": "8a77807f92f26ee",
   "metadata": {},
   "source": [
    "# This is\n",
    "\n",
    "Below is an example of a code cell. \n",
    "Put your cursor into the cell and press Shift+Enter to execute it and select the next one, or click 'Run Cell' button.\n",
    "\n",
    "Press Double Shift to search everywhere for classes, files, tool windows, actions, and settings.\n",
    "\n",
    "To learn more about Jupyter Notebooks in PyCharm, see [help](https://www.jetbrains.com/help/pycharm/ipython-notebook-support.html).\n",
    "For an overview of PyCharm, go to Help -> Learn IDE features or refer to [our documentation](https://www.jetbrains.com/help/pycharm/getting-started.html).\n"
   ]
  },
  {
   "metadata": {
    "ExecuteTime": {
     "end_time": "2024-11-27T03:10:54.560611Z",
     "start_time": "2024-11-27T03:10:52.612945Z"
    }
   },
   "cell_type": "code",
   "source": [
    "import pandas as pd\n",
    "import glob\n",
    "import os\n",
    "import numpy as np\n",
    "from sklearn.preprocessing import LabelEncoder, StandardScaler\n",
    "from sklearn.model_selection import train_test_split\n",
    "from sklearn.ensemble import RandomForestClassifier\n",
    "from sklearn.metrics import classification_report, confusion_matrix\n",
    "from tqdm import tqdm"
   ],
   "id": "a0e72f8dfabfcddc",
   "outputs": [],
   "execution_count": 1
  },
  {
   "cell_type": "code",
   "id": "594f83eade21fc35",
   "metadata": {
    "ExecuteTime": {
     "end_time": "2024-11-24T23:07:58.367804Z",
     "start_time": "2024-11-24T23:07:46.363218Z"
    }
   },
   "source": [
    "# Ruta a los archivos CSV del dataset\n",
    "# Verificar el directorio actual de ejecución\n",
    "print(\"Directorio actual:\", os.getcwd())\n",
    "\n",
    "ruta_archivos = 'data/*.csv'\n",
    "\n",
    "# Cargar todos los archivos CSV en un solo DataFrame\n",
    "archivos = glob.glob(ruta_archivos)\n",
    "dataframes = [pd.read_csv(archivo) for archivo in archivos]\n",
    "df = pd.concat(dataframes, ignore_index=True)\n",
    "\n",
    "# Mostrar información básica del dataset\n",
    "print(df.info())\n",
    "print(df.head())\n",
    "# Eliminar columnas irrelevantes (como Timestamp si existe)\n",
    "\n"
   ],
   "outputs": [
    {
     "name": "stdout",
     "output_type": "stream",
     "text": [
      "Directorio actual: U:\\Proyectos\\Regionathon2024\n",
      "<class 'pandas.core.frame.DataFrame'>\n",
      "RangeIndex: 2830743 entries, 0 to 2830742\n",
      "Data columns (total 79 columns):\n",
      " #   Column                        Dtype  \n",
      "---  ------                        -----  \n",
      " 0    Destination Port             int64  \n",
      " 1    Flow Duration                int64  \n",
      " 2    Total Fwd Packets            int64  \n",
      " 3    Total Backward Packets       int64  \n",
      " 4   Total Length of Fwd Packets   int64  \n",
      " 5    Total Length of Bwd Packets  int64  \n",
      " 6    Fwd Packet Length Max        int64  \n",
      " 7    Fwd Packet Length Min        int64  \n",
      " 8    Fwd Packet Length Mean       float64\n",
      " 9    Fwd Packet Length Std        float64\n",
      " 10  Bwd Packet Length Max         int64  \n",
      " 11   Bwd Packet Length Min        int64  \n",
      " 12   Bwd Packet Length Mean       float64\n",
      " 13   Bwd Packet Length Std        float64\n",
      " 14  Flow Bytes/s                  float64\n",
      " 15   Flow Packets/s               float64\n",
      " 16   Flow IAT Mean                float64\n",
      " 17   Flow IAT Std                 float64\n",
      " 18   Flow IAT Max                 int64  \n",
      " 19   Flow IAT Min                 int64  \n",
      " 20  Fwd IAT Total                 int64  \n",
      " 21   Fwd IAT Mean                 float64\n",
      " 22   Fwd IAT Std                  float64\n",
      " 23   Fwd IAT Max                  int64  \n",
      " 24   Fwd IAT Min                  int64  \n",
      " 25  Bwd IAT Total                 int64  \n",
      " 26   Bwd IAT Mean                 float64\n",
      " 27   Bwd IAT Std                  float64\n",
      " 28   Bwd IAT Max                  int64  \n",
      " 29   Bwd IAT Min                  int64  \n",
      " 30  Fwd PSH Flags                 int64  \n",
      " 31   Bwd PSH Flags                int64  \n",
      " 32   Fwd URG Flags                int64  \n",
      " 33   Bwd URG Flags                int64  \n",
      " 34   Fwd Header Length            int64  \n",
      " 35   Bwd Header Length            int64  \n",
      " 36  Fwd Packets/s                 float64\n",
      " 37   Bwd Packets/s                float64\n",
      " 38   Min Packet Length            int64  \n",
      " 39   Max Packet Length            int64  \n",
      " 40   Packet Length Mean           float64\n",
      " 41   Packet Length Std            float64\n",
      " 42   Packet Length Variance       float64\n",
      " 43  FIN Flag Count                int64  \n",
      " 44   SYN Flag Count               int64  \n",
      " 45   RST Flag Count               int64  \n",
      " 46   PSH Flag Count               int64  \n",
      " 47   ACK Flag Count               int64  \n",
      " 48   URG Flag Count               int64  \n",
      " 49   CWE Flag Count               int64  \n",
      " 50   ECE Flag Count               int64  \n",
      " 51   Down/Up Ratio                int64  \n",
      " 52   Average Packet Size          float64\n",
      " 53   Avg Fwd Segment Size         float64\n",
      " 54   Avg Bwd Segment Size         float64\n",
      " 55   Fwd Header Length.1          int64  \n",
      " 56  Fwd Avg Bytes/Bulk            int64  \n",
      " 57   Fwd Avg Packets/Bulk         int64  \n",
      " 58   Fwd Avg Bulk Rate            int64  \n",
      " 59   Bwd Avg Bytes/Bulk           int64  \n",
      " 60   Bwd Avg Packets/Bulk         int64  \n",
      " 61  Bwd Avg Bulk Rate             int64  \n",
      " 62  Subflow Fwd Packets           int64  \n",
      " 63   Subflow Fwd Bytes            int64  \n",
      " 64   Subflow Bwd Packets          int64  \n",
      " 65   Subflow Bwd Bytes            int64  \n",
      " 66  Init_Win_bytes_forward        int64  \n",
      " 67   Init_Win_bytes_backward      int64  \n",
      " 68   act_data_pkt_fwd             int64  \n",
      " 69   min_seg_size_forward         int64  \n",
      " 70  Active Mean                   float64\n",
      " 71   Active Std                   float64\n",
      " 72   Active Max                   int64  \n",
      " 73   Active Min                   int64  \n",
      " 74  Idle Mean                     float64\n",
      " 75   Idle Std                     float64\n",
      " 76   Idle Max                     int64  \n",
      " 77   Idle Min                     int64  \n",
      " 78   Label                        object \n",
      "dtypes: float64(24), int64(54), object(1)\n",
      "memory usage: 1.7+ GB\n",
      "None\n",
      "    Destination Port   Flow Duration   Total Fwd Packets  \\\n",
      "0              54865               3                   2   \n",
      "1              55054             109                   1   \n",
      "2              55055              52                   1   \n",
      "3              46236              34                   1   \n",
      "4              54863               3                   2   \n",
      "\n",
      "    Total Backward Packets  Total Length of Fwd Packets  \\\n",
      "0                        0                           12   \n",
      "1                        1                            6   \n",
      "2                        1                            6   \n",
      "3                        1                            6   \n",
      "4                        0                           12   \n",
      "\n",
      "    Total Length of Bwd Packets   Fwd Packet Length Max  \\\n",
      "0                             0                       6   \n",
      "1                             6                       6   \n",
      "2                             6                       6   \n",
      "3                             6                       6   \n",
      "4                             0                       6   \n",
      "\n",
      "    Fwd Packet Length Min   Fwd Packet Length Mean   Fwd Packet Length Std  \\\n",
      "0                       6                      6.0                     0.0   \n",
      "1                       6                      6.0                     0.0   \n",
      "2                       6                      6.0                     0.0   \n",
      "3                       6                      6.0                     0.0   \n",
      "4                       6                      6.0                     0.0   \n",
      "\n",
      "   ...   min_seg_size_forward  Active Mean   Active Std   Active Max  \\\n",
      "0  ...                     20          0.0          0.0            0   \n",
      "1  ...                     20          0.0          0.0            0   \n",
      "2  ...                     20          0.0          0.0            0   \n",
      "3  ...                     20          0.0          0.0            0   \n",
      "4  ...                     20          0.0          0.0            0   \n",
      "\n",
      "    Active Min  Idle Mean   Idle Std   Idle Max   Idle Min   Label  \n",
      "0            0        0.0        0.0          0          0  BENIGN  \n",
      "1            0        0.0        0.0          0          0  BENIGN  \n",
      "2            0        0.0        0.0          0          0  BENIGN  \n",
      "3            0        0.0        0.0          0          0  BENIGN  \n",
      "4            0        0.0        0.0          0          0  BENIGN  \n",
      "\n",
      "[5 rows x 79 columns]\n"
     ]
    }
   ],
   "execution_count": 6
  },
  {
   "cell_type": "code",
   "id": "a6f35a583c9ff98e",
   "metadata": {
    "ExecuteTime": {
     "end_time": "2024-11-24T23:08:03.126151Z",
     "start_time": "2024-11-24T23:08:03.120927Z"
    }
   },
   "source": [
    "print(\"Dimensiones del dataset:\", df.shape)\n",
    "print(\"Nombres de columnas:\", df.columns)"
   ],
   "outputs": [
    {
     "name": "stdout",
     "output_type": "stream",
     "text": [
      "Dimensiones del dataset: (2830743, 79)\n",
      "Nombres de columnas: Index([' Destination Port', ' Flow Duration', ' Total Fwd Packets',\n",
      "       ' Total Backward Packets', 'Total Length of Fwd Packets',\n",
      "       ' Total Length of Bwd Packets', ' Fwd Packet Length Max',\n",
      "       ' Fwd Packet Length Min', ' Fwd Packet Length Mean',\n",
      "       ' Fwd Packet Length Std', 'Bwd Packet Length Max',\n",
      "       ' Bwd Packet Length Min', ' Bwd Packet Length Mean',\n",
      "       ' Bwd Packet Length Std', 'Flow Bytes/s', ' Flow Packets/s',\n",
      "       ' Flow IAT Mean', ' Flow IAT Std', ' Flow IAT Max', ' Flow IAT Min',\n",
      "       'Fwd IAT Total', ' Fwd IAT Mean', ' Fwd IAT Std', ' Fwd IAT Max',\n",
      "       ' Fwd IAT Min', 'Bwd IAT Total', ' Bwd IAT Mean', ' Bwd IAT Std',\n",
      "       ' Bwd IAT Max', ' Bwd IAT Min', 'Fwd PSH Flags', ' Bwd PSH Flags',\n",
      "       ' Fwd URG Flags', ' Bwd URG Flags', ' Fwd Header Length',\n",
      "       ' Bwd Header Length', 'Fwd Packets/s', ' Bwd Packets/s',\n",
      "       ' Min Packet Length', ' Max Packet Length', ' Packet Length Mean',\n",
      "       ' Packet Length Std', ' Packet Length Variance', 'FIN Flag Count',\n",
      "       ' SYN Flag Count', ' RST Flag Count', ' PSH Flag Count',\n",
      "       ' ACK Flag Count', ' URG Flag Count', ' CWE Flag Count',\n",
      "       ' ECE Flag Count', ' Down/Up Ratio', ' Average Packet Size',\n",
      "       ' Avg Fwd Segment Size', ' Avg Bwd Segment Size',\n",
      "       ' Fwd Header Length.1', 'Fwd Avg Bytes/Bulk', ' Fwd Avg Packets/Bulk',\n",
      "       ' Fwd Avg Bulk Rate', ' Bwd Avg Bytes/Bulk', ' Bwd Avg Packets/Bulk',\n",
      "       'Bwd Avg Bulk Rate', 'Subflow Fwd Packets', ' Subflow Fwd Bytes',\n",
      "       ' Subflow Bwd Packets', ' Subflow Bwd Bytes', 'Init_Win_bytes_forward',\n",
      "       ' Init_Win_bytes_backward', ' act_data_pkt_fwd',\n",
      "       ' min_seg_size_forward', 'Active Mean', ' Active Std', ' Active Max',\n",
      "       ' Active Min', 'Idle Mean', ' Idle Std', ' Idle Max', ' Idle Min',\n",
      "       ' Label'],\n",
      "      dtype='object')\n"
     ]
    }
   ],
   "execution_count": 7
  },
  {
   "cell_type": "code",
   "id": "9ea2b71b76e47ae9",
   "metadata": {
    "ExecuteTime": {
     "end_time": "2024-11-24T23:08:14.343361Z",
     "start_time": "2024-11-24T23:08:05.162932Z"
    }
   },
   "source": [
    "# Limpiar nombres de columnas\n",
    "df.columns = df.columns.str.strip()\n",
    "\n",
    "# Verificar que la columna 'Label' exista\n",
    "if 'Label' not in df.columns:\n",
    "    raise ValueError(\"La columna 'Label' no existe en el DataFrame.\")\n",
    "\n",
    "# Inspeccionar valores únicos en 'Label'\n",
    "print(\"Valores únicos en Label antes de limpiar:\", df['Label'].unique())\n",
    "\n",
    "# Limpiar valores en 'Label'\n",
    "df['Label'] = df['Label'].str.strip()\n",
    "\n",
    "# Inspeccionar valores únicos después de limpiar\n",
    "print(\"Valores únicos en Label después de limpiar:\", df['Label'].unique())\n",
    "\n",
    "# Codificar etiquetas (LabelEncoder)\n",
    "label_encoder = LabelEncoder()\n",
    "df['Label'] = label_encoder.fit_transform(df['Label'])\n",
    "\n",
    "# Mostrar clases codificadas\n",
    "print(\"Clases codificadas:\", dict(enumerate(label_encoder.classes_)))\n",
    "\n",
    "# Dividir características (X) y etiquetas (y)\n",
    "X = df.drop(columns=['Label'])  # Características\n",
    "y = df['Label']  # Etiquetas\n",
    "\n",
    "# Manejar valores problemáticos en X\n",
    "# Reemplazar valores infinitos por NaN\n",
    "X.replace([np.inf, -np.inf], np.nan, inplace=True)\n",
    "\n",
    "# Rellenar valores NaN con la mediana de cada columna\n",
    "X.fillna(X.median(), inplace=True)\n",
    "\n",
    "# Validar que no existan más valores problemáticos\n",
    "assert not X.isnull().any().any(), \"Todavía hay valores NaN en las características.\"\n",
    "assert not (X == float('inf')).any().any(), \"Todavía hay valores infinitos en las características.\"\n",
    "\n",
    "# Normalización de características\n",
    "scaler = StandardScaler()\n",
    "X_scaled = scaler.fit_transform(X)\n"
   ],
   "outputs": [
    {
     "name": "stdout",
     "output_type": "stream",
     "text": [
      "Valores únicos en Label antes de limpiar: ['BENIGN' 'DDoS' 'PortScan' 'Bot' 'Infiltration'\n",
      " 'Web Attack � Brute Force' 'Web Attack � XSS'\n",
      " 'Web Attack � Sql Injection' 'FTP-Patator' 'SSH-Patator' 'DoS slowloris'\n",
      " 'DoS Slowhttptest' 'DoS Hulk' 'DoS GoldenEye' 'Heartbleed']\n",
      "Valores únicos en Label después de limpiar: ['BENIGN' 'DDoS' 'PortScan' 'Bot' 'Infiltration'\n",
      " 'Web Attack � Brute Force' 'Web Attack � XSS'\n",
      " 'Web Attack � Sql Injection' 'FTP-Patator' 'SSH-Patator' 'DoS slowloris'\n",
      " 'DoS Slowhttptest' 'DoS Hulk' 'DoS GoldenEye' 'Heartbleed']\n",
      "Clases codificadas: {0: 'BENIGN', 1: 'Bot', 2: 'DDoS', 3: 'DoS GoldenEye', 4: 'DoS Hulk', 5: 'DoS Slowhttptest', 6: 'DoS slowloris', 7: 'FTP-Patator', 8: 'Heartbleed', 9: 'Infiltration', 10: 'PortScan', 11: 'SSH-Patator', 12: 'Web Attack � Brute Force', 13: 'Web Attack � Sql Injection', 14: 'Web Attack � XSS'}\n"
     ]
    }
   ],
   "execution_count": 8
  },
  {
   "cell_type": "code",
   "id": "51d25af42dc6e81d",
   "metadata": {
    "ExecuteTime": {
     "end_time": "2024-11-24T23:08:24.852545Z",
     "start_time": "2024-11-24T23:08:20.160632Z"
    }
   },
   "source": [
    "from sklearn.model_selection import train_test_split\n",
    "\n",
    "X_train, X_test, y_train, y_test = train_test_split(X_scaled, y, test_size=0.3, random_state=42)\n",
    "\n"
   ],
   "outputs": [],
   "execution_count": 9
  },
  {
   "cell_type": "code",
   "id": "ef9604ffce9d00ad",
   "metadata": {
    "ExecuteTime": {
     "end_time": "2024-11-25T12:05:26.392057Z",
     "start_time": "2024-11-24T23:08:27.266409Z"
    }
   },
   "source": [
    "from sklearn.ensemble import RandomForestClassifier\n",
    "from sklearn.metrics import classification_report, confusion_matrix, accuracy_score\n",
    "from tqdm import tqdm\n",
    "\n",
    "rf_model = RandomForestClassifier(n_estimators=100, random_state=42)\n",
    "\n",
    "# Barra de progreso para seguimiento del entrenamiento\n",
    "progress_bar = tqdm(total=100, desc=\"Entrenando Random Forest\")\n",
    "for i in range(1, 101):\n",
    "    rf_model.set_params(n_estimators=i)\n",
    "    rf_model.fit(X_train, y_train)\n",
    "    progress_bar.update(1)\n",
    "progress_bar.close()\n",
    "\n",
    "# Predicción en el conjunto de prueba\n",
    "y_pred = rf_model.predict(X_test)\n",
    "\n",
    "# Decodificar predicciones y etiquetas reales\n",
    "y_pred_labels = label_encoder.inverse_transform(y_pred)\n",
    "y_test_labels = label_encoder.inverse_transform(y_test)\n",
    "\n",
    "# Generar el reporte de clasificación\n",
    "print(\"\\nClassification Report:\\n\", classification_report(y_test_labels, y_pred_labels))\n",
    "print(\"Confusion Matrix:\\n\", confusion_matrix(y_test_labels, y_pred_labels))\n"
   ],
   "outputs": [
    {
     "name": "stderr",
     "output_type": "stream",
     "text": [
      "Entrenando Random Forest: 100%|██████████| 100/100 [12:56:26<00:00, 465.87s/it] \n"
     ]
    },
    {
     "name": "stdout",
     "output_type": "stream",
     "text": [
      "\n",
      "Classification Report:\n",
      "                             precision    recall  f1-score   support\n",
      "\n",
      "                    BENIGN       1.00      1.00      1.00    681572\n",
      "                       Bot       0.91      0.70      0.79       600\n",
      "                      DDoS       1.00      1.00      1.00     38301\n",
      "             DoS GoldenEye       1.00      1.00      1.00      3099\n",
      "                  DoS Hulk       1.00      1.00      1.00     69516\n",
      "          DoS Slowhttptest       0.99      1.00      0.99      1621\n",
      "             DoS slowloris       1.00      1.00      1.00      1761\n",
      "               FTP-Patator       1.00      1.00      1.00      2422\n",
      "                Heartbleed       1.00      0.50      0.67         2\n",
      "              Infiltration       1.00      0.88      0.93         8\n",
      "                  PortScan       0.99      1.00      1.00     47894\n",
      "               SSH-Patator       1.00      1.00      1.00      1762\n",
      "  Web Attack � Brute Force       0.75      0.90      0.82       472\n",
      "Web Attack � Sql Injection       0.50      0.11      0.18         9\n",
      "          Web Attack � XSS       0.48      0.20      0.28       184\n",
      "\n",
      "                  accuracy                           1.00    849223\n",
      "                 macro avg       0.91      0.82      0.84    849223\n",
      "              weighted avg       1.00      1.00      1.00    849223\n",
      "\n",
      "Confusion Matrix:\n",
      " [[681100     43      7      1    120      9      0      0      0      0\n",
      "     292      0      0      0      0]\n",
      " [   180    420      0      0      0      0      0      0      0      0\n",
      "       0      0      0      0      0]\n",
      " [    16      0  38285      0      0      0      0      0      0      0\n",
      "       0      0      0      0      0]\n",
      " [     3      0      0   3093      2      1      0      0      0      0\n",
      "       0      0      0      0      0]\n",
      " [    81      0      0      6  69427      0      0      0      0      0\n",
      "       1      0      1      0      0]\n",
      " [     6      0      0      0      0   1613      2      0      0      0\n",
      "       0      0      0      0      0]\n",
      " [     3      0      0      0      0      2   1755      0      0      0\n",
      "       1      0      0      0      0]\n",
      " [     1      0      0      0      0      0      0   2421      0      0\n",
      "       0      0      0      0      0]\n",
      " [     1      0      0      0      0      0      0      0      1      0\n",
      "       0      0      0      0      0]\n",
      " [     1      0      0      0      0      0      0      0      0      7\n",
      "       0      0      0      0      0]\n",
      " [    26      0      0      0     11      0      0      0      0      0\n",
      "   47856      0      1      0      0]\n",
      " [     4      0      0      0      0      0      0      0      0      0\n",
      "       0   1758      0      0      0]\n",
      " [     6      0      0      0      0      0      0      0      0      0\n",
      "       1      0    425      1     39]\n",
      " [     8      0      0      0      0      0      0      0      0      0\n",
      "       0      0      0      1      0]\n",
      " [     8      0      0      0      0      0      0      0      0      0\n",
      "       0      0    140      0     36]]\n"
     ]
    }
   ],
   "execution_count": 10
  },
  {
   "cell_type": "code",
   "id": "45d4c6e6-1c4d-4574-97ab-68003da19e53",
   "metadata": {
    "ExecuteTime": {
     "end_time": "2024-11-25T14:33:13.138149Z",
     "start_time": "2024-11-25T14:33:13.053320Z"
    }
   },
   "source": [
    "# Convertir las etiquetas en categorías numéricas\n",
    "from sklearn.preprocessing import LabelEncoder\n",
    "label_encoder = LabelEncoder()\n",
    "df['Label'] = label_encoder.fit_transform(df['Label'])\n"
   ],
   "outputs": [],
   "execution_count": 11
  },
  {
   "cell_type": "code",
   "id": "eaf7abec-b274-4afe-b137-c6d2f295239a",
   "metadata": {
    "ExecuteTime": {
     "end_time": "2024-11-25T14:33:25.393042Z",
     "start_time": "2024-11-25T14:33:17.299381Z"
    }
   },
   "source": [
    "from sklearn.preprocessing import LabelEncoder\n",
    "from sklearn.metrics import classification_report\n",
    "\n",
    "# Codificar etiquetas\n",
    "label_encoder = LabelEncoder()\n",
    "y_train = label_encoder.fit_transform(y_train)\n",
    "y_test = label_encoder.transform(y_test)\n",
    "\n",
    "# Predecir etiquetas con el modelo\n",
    "y_pred = rf_model.predict(X_test)\n",
    "\n",
    "# Convertir las clases a cadenas de texto\n",
    "target_names = [str(cls) for cls in label_encoder.classes_]\n",
    "\n",
    "# Generar el reporte de clasificación\n",
    "print(\"Classification Report (Multiclass):\\n\", classification_report(y_test, y_pred, target_names=target_names))"
   ],
   "outputs": [
    {
     "name": "stdout",
     "output_type": "stream",
     "text": [
      "Classification Report (Multiclass):\n",
      "               precision    recall  f1-score   support\n",
      "\n",
      "           0       1.00      1.00      1.00    681572\n",
      "           1       0.91      0.70      0.79       600\n",
      "           2       1.00      1.00      1.00     38301\n",
      "           3       1.00      1.00      1.00      3099\n",
      "           4       1.00      1.00      1.00     69516\n",
      "           5       0.99      1.00      0.99      1621\n",
      "           6       1.00      1.00      1.00      1761\n",
      "           7       1.00      1.00      1.00      2422\n",
      "           8       1.00      0.50      0.67         2\n",
      "           9       1.00      0.88      0.93         8\n",
      "          10       0.99      1.00      1.00     47894\n",
      "          11       1.00      1.00      1.00      1762\n",
      "          12       0.75      0.90      0.82       472\n",
      "          13       0.50      0.11      0.18         9\n",
      "          14       0.48      0.20      0.28       184\n",
      "\n",
      "    accuracy                           1.00    849223\n",
      "   macro avg       0.91      0.82      0.84    849223\n",
      "weighted avg       1.00      1.00      1.00    849223\n",
      "\n"
     ]
    }
   ],
   "execution_count": 12
  },
  {
   "cell_type": "code",
   "id": "c5cb34d9-8ed7-4bf2-be60-f64924d0c48c",
   "metadata": {
    "ExecuteTime": {
     "end_time": "2024-11-25T14:33:54.725845Z",
     "start_time": "2024-11-25T14:33:54.638077Z"
    }
   },
   "source": [
    "import joblib\n",
    "\n",
    "# Guardar el modelo\n",
    "\n",
    "joblib.dump(rf_model, 'Back_Regionathon2024/modelsMod/random_forest_model_con_nombre_ataque.pkl')\n",
    "joblib.dump(scaler, 'Back_Regionathon2024/modelsMod/scaler_nombre_ataque.pkl')\n",
    "\n",
    "print(\"Modelo y escalador guardados correctamente.\")\n"
   ],
   "outputs": [
    {
     "name": "stdout",
     "output_type": "stream",
     "text": [
      "Modelo y escalador guardados correctamente.\n"
     ]
    }
   ],
   "execution_count": 15
  },
  {
   "cell_type": "code",
   "execution_count": null,
   "id": "b4554835-f2fc-49b9-9005-a246007fb95d",
   "metadata": {},
   "outputs": [],
   "source": [
    "## Prueba real\n",
    "\n",
    "# Ejemplo de predicción en tiempo real\n",
    "nueva_muestra = X_test[0].reshape(1, -1)  # Usamos una muestra del conjunto de prueba\n",
    "nueva_prediccion = rf_model.predict(nueva_muestra)\n",
    "tipo_ataque = label_encoder.inverse_transform(nueva_prediccion)\n",
    "print(\"\\nPredicción para nueva muestra:\")\n",
    "print(\"El tipo de ataque es:\", tipo_ataque[0])"
   ]
  }
 ],
 "metadata": {
  "kernelspec": {
   "display_name": "Python 3 (ipykernel)",
   "language": "python",
   "name": "python3"
  },
  "language_info": {
   "codemirror_mode": {
    "name": "ipython",
    "version": 3
   },
   "file_extension": ".py",
   "mimetype": "text/x-python",
   "name": "python",
   "nbconvert_exporter": "python",
   "pygments_lexer": "ipython3",
   "version": "3.12.4"
  }
 },
 "nbformat": 4,
 "nbformat_minor": 5
}
